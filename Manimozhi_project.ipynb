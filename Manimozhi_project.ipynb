{
  "nbformat": 4,
  "nbformat_minor": 0,
  "metadata": {
    "colab": {
      "name": "Manimozhi_project.ipynb",
      "provenance": [],
      "collapsed_sections": [],
      "authorship_tag": "ABX9TyMwOjp9lEJK+SqZgR1cvbPR",
      "include_colab_link": true
    },
    "kernelspec": {
      "name": "python3",
      "display_name": "Python 3"
    },
    "language_info": {
      "name": "python"
    }
  },
  "cells": [
    {
      "cell_type": "markdown",
      "metadata": {
        "id": "view-in-github",
        "colab_type": "text"
      },
      "source": [
        "<a href=\"https://colab.research.google.com/github/manimo01/bootcamp/blob/main/Manimozhi_project.ipynb\" target=\"_parent\"><img src=\"https://colab.research.google.com/assets/colab-badge.svg\" alt=\"Open In Colab\"/></a>"
      ]
    },
    {
      "cell_type": "code",
      "metadata": {
        "id": "VatgiRxrNSWU"
      },
      "source": [
        "import hashlib\n",
        "def generate_hash(text):\n",
        "   hash_object = hashlib. md5(text. encode())\n",
        "   md5_hash = hash_object. hexdigest()\n",
        "   print(md5_hash)\n",
        "txt=input(\"Enter the text: \")\n",
        "generate_hash(txt) "
      ],
      "execution_count": null,
      "outputs": []
    }
  ]
}