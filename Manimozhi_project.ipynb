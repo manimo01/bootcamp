{
  "nbformat": 4,
  "nbformat_minor": 0,
  "metadata": {
    "colab": {
      "name": "Manimozhi_project.ipynb",
      "provenance": [],
      "collapsed_sections": [],
      "authorship_tag": "ABX9TyMwOjp9lEJK+SqZgR1cvbPR",
      "include_colab_link": true
    },
    "kernelspec": {
      "name": "python3",
      "display_name": "Python 3"
    },
    "language_info": {
      "name": "python"
    }
  },
  "cells": [
    {
      "cell_type": "markdown",
      "metadata": {
        "id": "view-in-github",
        "colab_type": "text"
      },
      "source": [
        "<a href=\"https://colab.research.google.com/github/manimo01/bootcamp/blob/main/Manimozhi_project.ipynb\" target=\"_parent\"><img src=\"https://colab.research.google.com/assets/colab-badge.svg\" alt=\"Open In Colab\"/></a>"
      ]
    },
    {
      "cell_type": "code",
      "metadata": {
        "colab": {
          "base_uri": "https://localhost:8080/"
        },
        "id": "VatgiRxrNSWU",
        "outputId": "0e816054-e285-4dc0-ab4e-c71a754c9594"
      },
      "source": [
        "import hashlib\n",
        "def generate_hash(text):\n",
        "   hash_object = hashlib. md5(text. encode())\n",
        "   md5_hash = hash_object. hexdigest()\n",
        "   print(md5_hash)\n",
        "txt=input(\"Enter the text: \")\n",
        "generate_hash(txt) "
      ],
      "execution_count": null,
      "outputs": [
        {
          "output_type": "stream",
          "text": [
            "Enter the text: manimozhi\n",
            "ef83bbcf9d20009bc62df4b5802f9fbd\n"
          ],
          "name": "stdout"
        }
      ]
    }
  ]
}